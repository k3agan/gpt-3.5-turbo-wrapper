{
 "cells": [
  {
   "cell_type": "code",
   "execution_count": null,
   "metadata": {},
   "outputs": [],
   "source": [
    "import openai\n",
    "import os\n",
    "\n",
    "openai.api_key = os.getenv(\"OPENAI_API_KEY\")\n",
    "openai.organization = os.getenv(\"OPENAI_ORG\")\n",
    "\n",
    "conversation = [{'role': 'system','content': 'You are political advisor to the president of a small country. You are in the Oval Office with the president and the president’s chief of staff. The president is considering a military strike against a neighboring country. The president asks you for your advice.'}]\n",
    "\n",
    "while True:\n",
    "    user_input = input(\"\")\n",
    "    conversation.append({'role': 'user', 'content': user_input})\n",
    "    response = openai.ChatCompletion.create(\n",
    "        model = \"gpt-3.5-turbo\",\n",
    "        messages = conversation\n",
    "    )\n",
    "\n",
    "    conversation.append({'role': 'system', 'content': response.choices[0]['message']['content']})\n",
    "    print(response.choices[0]['message']['content'] + \"\\n\")"
   ]
  }
 ],
 "metadata": {
  "language_info": {
   "name": "python"
  },
  "orig_nbformat": 4
 },
 "nbformat": 4,
 "nbformat_minor": 2
}
